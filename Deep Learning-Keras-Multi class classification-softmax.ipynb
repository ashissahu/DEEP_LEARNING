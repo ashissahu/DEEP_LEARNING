{
 "cells": [
  {
   "cell_type": "code",
   "execution_count": 1,
   "metadata": {},
   "outputs": [
    {
     "name": "stderr",
     "output_type": "stream",
     "text": [
      "C:\\Users\\Ad\\Anaconda3\\envs\\newenvt\\lib\\site-packages\\h5py\\__init__.py:36: FutureWarning: Conversion of the second argument of issubdtype from `float` to `np.floating` is deprecated. In future, it will be treated as `np.float64 == np.dtype(float).type`.\n",
      "  from ._conv import register_converters as _register_converters\n",
      "Using TensorFlow backend.\n"
     ]
    }
   ],
   "source": [
    "import numpy as np\n",
    "import keras\n",
    "from sklearn import datasets\n",
    "import matplotlib.pyplot as plt\n",
    "from keras.models import Sequential\n",
    "from keras.layers import Dense\n",
    "from keras.optimizers import Adam\n",
    "from keras.utils.np_utils import to_categorical  #used for one hot encoding"
   ]
  },
  {
   "cell_type": "code",
   "execution_count": 2,
   "metadata": {},
   "outputs": [
    {
     "name": "stdout",
     "output_type": "stream",
     "text": [
      "[[ 0.95219249  1.39076863]\n",
      " [ 1.65952714  1.68618744]\n",
      " [-0.473863    0.05839169]\n",
      " [-1.41959667  0.96995176]\n",
      " [ 1.05997353 -0.78014296]\n",
      " [-1.60724319 -1.18447497]\n",
      " [-0.82564969 -1.1275828 ]\n",
      " [-0.11680167 -0.0467727 ]\n",
      " [ 0.72626083 -0.10110012]\n",
      " [ 0.42796744 -0.36373081]\n",
      " [ 1.08583443  0.83913611]\n",
      " [ 1.38965297 -0.93588251]\n",
      " [-1.58604649 -0.85462178]\n",
      " [-0.44909701  0.94272961]\n",
      " [ 1.40572155 -1.68359671]\n",
      " [-0.71461074 -0.0609578 ]\n",
      " [ 0.63020037  0.13222531]\n",
      " [ 0.74338976  0.0234151 ]\n",
      " [ 1.02112227  0.35169921]\n",
      " [-1.40786203  1.06717692]\n",
      " [ 0.73537974  0.62811535]\n",
      " [-0.53991778  0.49305918]\n",
      " [ 1.16554523  1.01893675]\n",
      " [-0.19294613  0.43191854]\n",
      " [-1.16056577 -0.73060349]\n",
      " [ 0.67184979  0.7509346 ]\n",
      " [-0.25482897 -0.6659765 ]\n",
      " [-0.8742912   0.46949382]\n",
      " [ 0.57943063  0.35688003]\n",
      " [ 1.16644953 -1.05312047]\n",
      " [ 0.82413112  1.43528819]\n",
      " [-1.15029996 -1.55188999]\n",
      " [-1.50155227  0.7448994 ]\n",
      " [ 0.27281391  0.11862263]\n",
      " [-1.03947388 -1.08599322]\n",
      " [-0.59490438  1.11149634]\n",
      " [-0.48077467 -0.18831422]\n",
      " [-1.12590326  0.56563904]\n",
      " [-0.44255436  0.14669288]\n",
      " [-1.21956817  0.60877692]\n",
      " [-0.11971916 -0.72468123]\n",
      " [ 0.88630116  0.98278329]\n",
      " [ 1.4562625   0.68473378]\n",
      " [-0.74317812  0.20884483]\n",
      " [ 1.34963192  1.16374201]\n",
      " [-1.50226747 -1.22077475]\n",
      " [ 1.23412721  0.54098984]\n",
      " [-0.08811699  0.74462565]\n",
      " [-1.17107184  1.49714782]\n",
      " [-0.31030801  0.4712228 ]\n",
      " [-0.98180397  0.90676318]\n",
      " [ 0.76535362 -0.93828398]\n",
      " [ 1.78363814  0.56652893]\n",
      " [-1.51763413  0.58448472]\n",
      " [ 1.46818172 -1.22035728]\n",
      " [ 1.10664123 -0.02144378]\n",
      " [ 0.13232671  0.60745182]\n",
      " [-0.99886163  1.27528908]\n",
      " [ 0.75039006  1.72177453]\n",
      " [ 0.20933705  0.09550427]\n",
      " [-0.76818335 -0.76812409]\n",
      " [ 0.97887941  0.93831788]\n",
      " [-0.43308038  1.32289461]\n",
      " [ 0.06468412  0.28199179]\n",
      " [ 1.39321336 -1.0686384 ]\n",
      " [-0.74562292 -0.88615879]\n",
      " [-1.75807024 -0.96490781]\n",
      " [ 1.42726415 -0.86269681]\n",
      " [ 0.71300567  0.61097747]\n",
      " [ 0.99653581 -0.60927481]\n",
      " [ 0.70434309  1.11488571]\n",
      " [ 1.1246326  -1.05682029]\n",
      " [-0.68406879 -1.40300352]\n",
      " [-1.70950854 -1.16300504]\n",
      " [ 1.10609358  0.85109131]\n",
      " [ 0.5799124  -0.77284797]\n",
      " [ 0.68836813 -0.62737602]\n",
      " [ 0.25184101 -1.23949271]\n",
      " [ 1.23547422 -0.46672372]\n",
      " [ 0.69831913  0.495292  ]\n",
      " [-0.92818021  0.25520972]\n",
      " [ 0.67000318 -1.10273814]\n",
      " [-0.1684314  -0.46658853]\n",
      " [ 0.91601051  1.12031818]\n",
      " [ 0.61469853 -1.09904855]\n",
      " [-0.24967978 -0.83372218]\n",
      " [ 0.99598694  0.66174223]\n",
      " [ 1.31297616  0.93745611]\n",
      " [ 0.49130122  1.29885136]\n",
      " [ 0.45599693  1.3096    ]\n",
      " [-1.34659808 -1.266723  ]\n",
      " [-1.09872631 -0.97248467]\n",
      " [ 0.22052089  0.16783566]\n",
      " [ 1.65181368 -0.97367749]\n",
      " [ 0.38388255  0.33166816]\n",
      " [ 0.21120419  0.56841711]\n",
      " [-1.07704599 -0.82034575]\n",
      " [ 1.71406753 -0.87595099]\n",
      " [-0.21575605  0.35814834]\n",
      " [-0.61735923 -1.56749037]\n",
      " [-0.02589798  0.16916771]\n",
      " [ 0.97215076 -1.0382611 ]\n",
      " [ 1.06638279 -0.35923694]\n",
      " [ 0.57717769  1.52810733]\n",
      " [-0.26768224  0.01730022]\n",
      " [-1.48535391 -1.53059511]\n",
      " [-0.98814283  0.18345018]\n",
      " [ 0.36902048  0.63736419]\n",
      " [ 0.84153763  0.98467151]\n",
      " [ 1.68641613 -0.47672257]\n",
      " [-0.54753924 -0.94596893]\n",
      " [ 0.78878378  0.94452682]\n",
      " [-1.49494129 -0.95037764]\n",
      " [-0.77845753  0.78773018]\n",
      " [-0.83217293 -0.91722899]\n",
      " [-1.32214661  0.3089322 ]\n",
      " [-0.18142767  0.39970112]\n",
      " [-0.0718354  -0.06537433]\n",
      " [ 0.42096043 -0.05936216]\n",
      " [ 1.49274872  0.43709257]\n",
      " [-1.52231435 -1.3531316 ]\n",
      " [ 0.53663364  1.0506066 ]\n",
      " [ 0.17904064  1.24022844]\n",
      " [ 0.70702045  1.50272833]\n",
      " [-1.00245198 -1.06369808]\n",
      " [ 0.04058676 -0.16867364]\n",
      " [ 0.19807236 -0.20569616]\n",
      " [-1.32937256  1.05208598]\n",
      " [ 0.54110514 -0.39193342]\n",
      " [-1.05602749  0.65529804]\n",
      " [-1.42990664 -0.73267325]\n",
      " [-0.88365025 -0.88813493]\n",
      " [-1.15664792  1.05599124]\n",
      " [-0.52795662  0.50657172]\n",
      " [-1.30908349  1.31794507]\n",
      " [-0.89941433 -1.27791929]\n",
      " [-1.3045177  -0.99854194]\n",
      " [-0.12969414 -0.12390046]\n",
      " [-0.25704394  0.11995403]\n",
      " [-1.54837939  0.86700989]\n",
      " [ 0.04142721 -0.47157478]\n",
      " [ 1.10909389  1.17013434]\n",
      " [-0.44494571 -0.5016734 ]\n",
      " [ 0.03657132 -0.20093252]\n",
      " [ 1.50218573 -0.61024552]\n",
      " [-0.1736019  -0.66707569]\n",
      " [-0.92912307  0.9880128 ]\n",
      " [-0.4936255   0.65330384]\n",
      " [-1.39892859  0.55998275]\n",
      " [-0.77685982  0.56749171]\n",
      " [ 0.9573302  -0.90949534]\n",
      " [-0.59837844  1.15447456]\n",
      " [ 0.03359714  0.09891361]\n",
      " [-1.26366052 -0.75555058]\n",
      " [-0.8868086   0.39748211]\n",
      " [ 0.02461577 -1.52287128]\n",
      " [ 1.46322755 -1.27310589]\n",
      " [-0.79071262 -1.17067591]\n",
      " [ 0.98901665  0.96076337]\n",
      " [-0.92016716  0.94955289]\n",
      " [-1.52824103 -1.26784744]\n",
      " [ 0.91027489 -0.8072503 ]\n",
      " [ 0.95052451 -0.64472218]\n",
      " [-0.47286116  0.43566615]\n",
      " [-0.32062871 -0.20522024]\n",
      " [-0.93578223 -0.67209576]\n",
      " [ 1.3563667   1.22278102]\n",
      " [ 1.29141416 -1.03950392]\n",
      " [ 1.4526578   0.77863827]\n",
      " [ 0.35822544  1.65164848]\n",
      " [ 1.15683122  1.29895718]\n",
      " [ 0.72458059 -1.43390751]\n",
      " [ 0.98426827 -0.42043856]\n",
      " [ 0.68316322 -0.73016607]\n",
      " [-1.26682213 -0.2855956 ]\n",
      " [-1.29298479  0.51499075]\n",
      " [-0.71867595 -1.23924213]\n",
      " [-1.36000343 -1.3724008 ]\n",
      " [-0.64371744  1.70195447]\n",
      " [-1.01347569 -0.92809937]\n",
      " [ 0.12180607 -0.51884001]\n",
      " [-0.10599458 -0.35727838]\n",
      " [ 1.4698401   1.12033856]\n",
      " [ 1.42488579 -0.58784827]\n",
      " [ 1.48803141  0.83346189]\n",
      " [ 0.49726647 -0.89520432]\n",
      " [ 0.12516563  1.01880098]\n",
      " [-1.53163153 -0.88878652]\n",
      " [-0.82954134  0.3578361 ]\n",
      " [ 1.64535261  1.15236857]\n",
      " [ 0.30526421 -0.72304851]\n",
      " [ 1.37261185 -0.84597356]\n",
      " [-0.90001202 -1.38972314]\n",
      " [-0.335619    1.32292327]\n",
      " [-0.53511838  0.56111878]\n",
      " [-1.9706717   0.82843495]\n",
      " [ 0.14067175 -0.47477015]\n",
      " [ 1.01526652  1.25132804]\n",
      " [-0.63715792  0.42852772]\n",
      " [-0.27716912 -0.31130869]\n",
      " [ 1.240353   -1.45265637]\n",
      " [ 1.17623292 -0.96696183]\n",
      " [ 0.10543306  0.56229063]\n",
      " [-1.66147914 -0.49866562]\n",
      " [-0.89847341  1.11349014]\n",
      " [-0.52721753 -0.77270759]\n",
      " [ 0.38393218 -0.12570023]\n",
      " [-0.86294481 -1.05057503]\n",
      " [ 1.05175421 -1.5050175 ]\n",
      " [-1.05814542 -0.25250942]\n",
      " [ 1.32239284  1.38113234]\n",
      " [-1.03460891 -1.36612283]\n",
      " [ 0.4095622  -0.08402257]\n",
      " [-0.21987923 -0.07516158]\n",
      " [-0.16515466  1.06577649]\n",
      " [-0.60394684 -1.14150173]\n",
      " [ 0.18910994  0.26006196]\n",
      " [ 0.56459658 -0.77259832]\n",
      " [-0.1678563   0.25390525]\n",
      " [-0.98812671  1.42772639]\n",
      " [-0.10906178  0.00968454]\n",
      " [-0.6085056   1.89525734]\n",
      " [-0.64440283 -0.53557266]\n",
      " [ 2.02394009 -0.98603897]\n",
      " [ 0.03006547  1.44250666]\n",
      " [-1.00985039  1.01365685]\n",
      " [-1.10995102 -1.5664329 ]\n",
      " [-0.67506347  1.19989606]\n",
      " [ 0.35792768  1.05047227]\n",
      " [ 1.03836816  1.32037186]\n",
      " [ 0.00922088  0.53528821]\n",
      " [ 1.27656902  1.77726407]\n",
      " [-0.14320804 -0.09121382]\n",
      " [-0.62901503  0.93054573]\n",
      " [-1.29632551  1.0291629 ]\n",
      " [-0.30238357 -1.38709776]\n",
      " [-0.52963569 -0.72797139]\n",
      " [ 1.60954081  0.72670962]\n",
      " [-0.81749164  1.61781778]\n",
      " [ 0.02008877 -0.44369238]\n",
      " [-0.43665234 -1.24348432]\n",
      " [-0.62821144 -0.71755557]\n",
      " [ 1.09305986 -0.35736128]\n",
      " [-1.19164918 -0.85597971]\n",
      " [ 1.53225231 -0.91344137]\n",
      " [-0.1589454  -0.1692111 ]\n",
      " [-0.56620751  0.65184453]\n",
      " [ 1.61017769  0.63196276]\n",
      " [ 1.11197743  1.63836847]\n",
      " [-1.13843601 -0.95623874]\n",
      " [-0.74780479 -1.86099738]\n",
      " [-0.84923195 -1.44747824]\n",
      " [-0.36825862  0.06729374]\n",
      " [-1.12954391 -1.07531874]\n",
      " [-0.69397806 -1.33159553]\n",
      " [-0.94302977 -0.78350748]\n",
      " [-0.19025911 -0.38877473]\n",
      " [ 1.36458424  0.45020125]\n",
      " [-0.51240566 -0.83192816]\n",
      " [-1.70861324  0.72004911]\n",
      " [-0.40174235  1.42775707]\n",
      " [ 1.24007009 -0.20616704]\n",
      " [ 1.06389948 -1.66419003]\n",
      " [ 0.81098776 -0.51177243]\n",
      " [ 1.04673125  0.87689027]\n",
      " [ 1.77234035 -1.16233735]\n",
      " [ 0.93210247  1.65687311]\n",
      " [-0.2659117  -0.14224525]\n",
      " [ 0.86754868 -0.39896764]\n",
      " [ 0.69606596  0.73824757]\n",
      " [ 1.14448122  1.43327952]\n",
      " [-0.58700811 -1.07773709]\n",
      " [-1.0025229  -1.08266492]\n",
      " [-1.21958204  1.72238804]\n",
      " [-0.13846686 -0.43705413]\n",
      " [-1.17759278  0.82625949]\n",
      " [ 0.36950686  0.94897514]\n",
      " [-0.92119243 -0.292422  ]\n",
      " [-0.35652361  0.89190704]\n",
      " [-0.39053449  0.56198942]\n",
      " [ 0.44030645  1.42307804]\n",
      " [ 1.07561738 -1.43272765]\n",
      " [ 0.9513034  -1.70515909]\n",
      " [-0.70292551 -1.03223329]\n",
      " [-0.74555372 -0.49198762]\n",
      " [ 1.36507517 -1.50942809]\n",
      " [-1.21945685 -0.02282184]\n",
      " [-1.09586751  1.05732309]\n",
      " [ 1.39458961 -0.60247732]\n",
      " [ 0.99925012 -0.74722069]\n",
      " [-1.48490759 -0.72368909]\n",
      " [ 0.72806884  0.75799494]\n",
      " [ 0.89958502  1.30913816]\n",
      " [-1.48909478 -1.15732434]\n",
      " [ 1.0129629   1.37847436]\n",
      " [-0.39245375  0.85839995]\n",
      " [-0.73373862  0.64063082]\n",
      " [-0.64157667 -0.85215217]\n",
      " [-0.00330261 -0.31973566]\n",
      " [ 1.0081675  -1.23274008]\n",
      " [ 0.86939294 -0.95837571]\n",
      " [ 0.29957186 -1.26634279]\n",
      " [-1.09808134 -1.14465597]\n",
      " [-1.47932046  1.07980963]\n",
      " [-1.35181454  1.11345093]\n",
      " [-1.28173686 -0.69975603]\n",
      " [-0.96830919  0.89024137]\n",
      " [-0.84823976  0.84832943]\n",
      " [-1.27298037 -1.67682097]\n",
      " [ 1.90027041 -1.22838323]\n",
      " [-0.69239578  0.0629851 ]\n",
      " [ 0.39861664 -1.09294296]\n",
      " [ 0.45257744 -0.03766622]\n",
      " [ 1.44536067 -0.94280399]\n",
      " [-0.45000375 -1.05217788]\n",
      " [ 0.13223682  0.98575781]\n",
      " [-1.2314401   1.66057461]\n",
      " [-0.86456438  0.9952678 ]\n",
      " [-1.30903349 -0.70207228]\n",
      " [ 0.1881055  -0.44457218]\n",
      " [-1.26764105 -0.35512278]\n",
      " [ 0.15108045 -1.29044561]\n",
      " [ 0.37439538  0.15208766]\n",
      " [ 0.03259636 -0.01960468]\n",
      " [ 0.17068072 -0.28332899]\n",
      " [ 1.35256677  1.35497693]\n",
      " [ 0.40655651  0.37343404]\n",
      " [-1.64017621 -0.69845249]\n",
      " [ 0.43880436 -1.25507686]\n",
      " [ 0.77909882  0.97568236]\n",
      " [-1.14196353 -1.27301526]\n",
      " [ 0.90176093  1.01924343]\n",
      " [-1.90061399 -1.23558822]\n",
      " [-1.84924014  1.41589084]\n",
      " [-0.95170105  1.29928625]\n",
      " [ 1.06748891 -0.88986325]\n",
      " [-0.07383967 -0.89446754]\n",
      " [-1.05760534 -0.47335776]\n",
      " [ 1.01537883  0.62060055]\n",
      " [-1.04857947 -1.23341469]\n",
      " [-1.04116425 -1.11305135]\n",
      " [ 1.12151517 -0.9024937 ]\n",
      " [-0.7623719  -1.07964495]\n",
      " [-0.39200266  0.40477586]\n",
      " [ 1.41693415  0.15802863]\n",
      " [-1.20748154 -1.02495942]\n",
      " [ 0.60389012 -1.21377888]\n",
      " [ 0.89112941  0.53594814]\n",
      " [ 1.38435203 -0.28625728]\n",
      " [-1.43382716  0.45461138]\n",
      " [ 0.59321567  0.28839576]\n",
      " [-1.00544155 -0.72551973]\n",
      " [-0.04095643 -0.90904708]\n",
      " [-0.40344415  0.7444392 ]\n",
      " [ 0.76387003 -1.13918574]\n",
      " [ 1.04974345 -0.39321053]\n",
      " [-1.37433355  1.47033162]\n",
      " [-0.62485988 -1.14266522]\n",
      " [ 1.63522715 -0.95494233]\n",
      " [ 1.03766115 -1.0934016 ]\n",
      " [-0.35269941  0.33677583]\n",
      " [-0.15692368 -0.73226654]\n",
      " [-1.1077174   0.95565971]\n",
      " [ 0.38945775  0.39918295]\n",
      " [-1.50047595 -1.47373094]\n",
      " [ 1.6488834   0.80113594]\n",
      " [ 0.72296675  0.97701355]\n",
      " [-0.11524515 -1.63488257]\n",
      " [ 1.06458255 -1.65575879]\n",
      " [-0.87704631  0.75550986]\n",
      " [-0.32980023  0.57146553]\n",
      " [ 1.30873865  0.54281918]\n",
      " [ 0.26318726  1.44061039]\n",
      " [-1.06737057 -0.90238922]\n",
      " [ 1.37835079 -0.75477291]\n",
      " [ 0.60599057 -0.79772566]\n",
      " [-0.27682104  0.05398804]\n",
      " [ 0.76085797  0.93666915]\n",
      " [-1.15635992  1.22952234]\n",
      " [ 1.35510643  0.53029188]\n",
      " [ 0.55337407  0.78029856]\n",
      " [ 0.81065801  1.41834293]\n",
      " [ 1.12051619  1.06196474]\n",
      " [-0.9918736   0.92241445]\n",
      " [-1.38303274 -0.17741306]\n",
      " [-0.15022325  0.06064304]\n",
      " [ 0.00934894  0.07608401]\n",
      " [ 0.11854346  0.22615863]\n",
      " [-1.11031441  0.77915677]\n",
      " [ 0.94028362  1.79470521]\n",
      " [ 0.72981223  0.88166837]\n",
      " [ 1.0143762  -0.65995885]\n",
      " [ 0.09540048 -0.82008707]\n",
      " [-1.30257488  1.12867463]\n",
      " [ 0.34262194 -0.00695649]\n",
      " [-0.71509415  2.03932157]\n",
      " [-1.16134642  0.94958817]\n",
      " [ 0.19419009  0.26820496]\n",
      " [ 1.26945957 -0.40301785]\n",
      " [ 0.55398402 -1.58027326]\n",
      " [ 1.02347498 -0.57423092]\n",
      " [ 0.38779484  1.42978606]\n",
      " [-1.27155446  0.96211641]\n",
      " [ 0.80361109 -1.52366613]\n",
      " [-0.49308054  1.13310599]\n",
      " [-0.44185883  0.85642563]\n",
      " [-1.41606515 -0.31238613]\n",
      " [ 1.50432851 -0.46501847]\n",
      " [ 0.93284911  1.52340738]\n",
      " [-1.43425224  1.39893818]\n",
      " [-0.70505257  1.59629281]\n",
      " [ 0.84055043 -0.95581876]\n",
      " [-0.48981164  0.40346038]\n",
      " [ 0.73617596 -0.69962216]\n",
      " [ 0.75906401  0.84810787]\n",
      " [-0.69562024  1.12938754]\n",
      " [ 0.78117374  0.99996979]\n",
      " [-0.92758595  1.47114478]\n",
      " [-1.16550275 -0.72961464]\n",
      " [-0.49790505  0.72445241]\n",
      " [-0.1311057   0.40514728]\n",
      " [-1.40198686 -0.74391253]\n",
      " [-0.94638928  1.28178963]\n",
      " [-1.56475555  0.24925254]\n",
      " [-0.46396052 -1.62770245]\n",
      " [ 1.21340433  0.83375225]\n",
      " [-1.75539695 -1.45133222]\n",
      " [ 0.34835912  0.2439162 ]\n",
      " [-0.04305389  1.16516486]\n",
      " [-0.05257521 -0.49651148]\n",
      " [-1.20413715 -1.17910857]\n",
      " [-1.34617291 -1.54987519]\n",
      " [ 0.90763838  2.42863169]\n",
      " [ 0.41080896 -0.99758827]\n",
      " [ 1.47649298  0.86069675]\n",
      " [ 0.8702051  -1.06680011]\n",
      " [ 0.44785947 -0.3207764 ]\n",
      " [ 0.74775264 -1.55775005]\n",
      " [ 0.98997594  0.70549443]\n",
      " [-1.09946234 -1.26785886]\n",
      " [-0.30251511  0.68077491]\n",
      " [-0.77738052  0.91516795]\n",
      " [-0.81026108  0.77443043]\n",
      " [-0.76371831 -0.95388051]\n",
      " [ 0.3755878   0.22976524]\n",
      " [-0.09177065 -0.17986704]\n",
      " [ 1.18630803 -1.5671578 ]\n",
      " [-1.39472156 -0.97628355]\n",
      " [-0.21623546  0.18998169]\n",
      " [ 1.27472176 -0.76569274]\n",
      " [-1.70216074 -1.13944301]\n",
      " [-0.17003044 -0.71009714]\n",
      " [ 0.90627251  0.40721662]\n",
      " [-0.11778892  0.58435825]\n",
      " [-0.12562975  0.04550239]\n",
      " [-1.14192978  1.1566337 ]\n",
      " [-1.13650469  0.9128215 ]\n",
      " [ 1.43581306 -1.02820937]\n",
      " [ 0.81742962 -1.29805889]\n",
      " [-0.81262435  0.66753801]\n",
      " [-1.29408678  1.2004996 ]\n",
      " [ 0.82064334 -0.8348725 ]\n",
      " [ 1.20519314 -1.01076904]\n",
      " [ 1.23263592  0.90623404]\n",
      " [-0.21627533  0.09240691]\n",
      " [ 1.9328248   1.1380497 ]\n",
      " [ 1.30081347 -0.9721437 ]\n",
      " [ 1.61363612 -1.21196564]\n",
      " [ 0.31940156 -1.09542601]\n",
      " [ 1.09919195 -0.67312469]\n",
      " [-0.11762797  1.87471444]\n",
      " [-0.61766706 -1.35104543]\n",
      " [ 0.84663348  1.73935198]\n",
      " [-1.10224775 -0.11943564]\n",
      " [ 1.1531481  -0.86981455]\n",
      " [-0.49414989 -1.5680852 ]\n",
      " [ 1.77193297 -0.92340707]\n",
      " [-1.33500669  0.3576149 ]\n",
      " [ 0.78800445 -1.97723031]\n",
      " [ 0.99643887  1.23111758]\n",
      " [-0.01920568 -0.44501172]\n",
      " [ 0.92110545  0.18316143]\n",
      " [-0.8709693  -1.17366661]\n",
      " [-0.04846672 -0.80343419]\n",
      " [ 1.4290519   0.67068593]\n",
      " [ 1.14860987  0.93655792]\n",
      " [-1.1340043   1.41244578]\n",
      " [ 0.69654863 -1.48001731]\n",
      " [-0.13648243 -0.19591191]\n",
      " [-0.96261567  1.58383571]\n",
      " [-0.56511179  0.19480372]\n",
      " [-1.76948629 -0.72168507]\n",
      " [ 1.080264    0.65871939]\n",
      " [ 0.89382175 -0.62816621]\n",
      " [-1.03808102 -0.88852659]\n",
      " [ 1.34998493  1.14090863]\n",
      " [-0.83876562  1.58877175]\n",
      " [-1.11660269 -0.90184824]\n",
      " [ 1.36172249 -0.52000494]\n",
      " [-1.32706732 -1.53854302]]\n",
      "\n",
      "[3 3 4 0 2 1 1 4 4 4 3 2 1 0 2 4 4 4 3 0 3 0 3 4 1 3 1 0 4 2 3 1 0 4 1 0 4\n",
      " 0 4 0 1 3 3 0 3 1 3 4 0 4 0 2 3 0 2 4 4 0 3 4 1 3 0 4 2 1 1 2 3 2 3 2 1 1\n",
      " 3 2 4 2 2 3 0 2 4 3 2 1 3 3 3 3 1 1 4 2 4 4 1 2 4 1 4 2 2 3 4 1 1 3 3 2 1\n",
      " 3 1 0 1 0 4 4 4 3 1 3 3 3 1 4 4 0 2 0 1 1 0 4 0 1 1 4 4 0 4 3 4 4 2 4 0 0\n",
      " 0 4 2 0 4 1 0 2 2 1 3 0 1 2 2 4 4 1 3 2 3 3 3 2 2 2 4 0 1 1 0 1 4 4 3 2 3\n",
      " 2 3 1 0 3 4 2 1 0 0 0 4 3 0 4 2 2 3 1 0 4 4 1 2 1 3 1 4 4 0 1 4 2 4 0 4 0\n",
      " 1 2 3 0 1 0 3 3 4 3 4 0 0 1 1 3 0 4 1 4 2 1 2 4 4 3 3 1 1 1 4 1 1 1 4 3 1\n",
      " 0 0 2 2 2 3 2 3 4 2 3 3 1 1 0 4 0 3 0 0 0 3 2 2 1 4 2 0 0 2 2 1 3 3 1 3 0\n",
      " 0 1 4 2 2 2 1 0 0 1 0 0 1 2 4 2 4 2 1 3 0 0 1 4 1 2 4 4 4 3 4 1 2 3 1 3 1\n",
      " 0 0 2 4 1 3 1 1 2 1 4 3 1 2 3 2 0 4 1 4 0 2 2 0 1 2 2 4 4 0 4 1 3 3 2 2 0\n",
      " 4 3 3 1 2 2 4 3 0 3 3 3 3 0 1 4 4 4 0 3 3 2 4 0 4 0 0 4 2 2 2 3 0 2 0 0 1\n",
      " 2 3 0 0 2 4 2 3 0 3 0 1 0 4 1 0 0 1 3 1 4 0 2 1 1 3 2 3 2 2 2 3 1 0 0 0 1\n",
      " 3 4 2 1 0 2 1 4 3 3 4 0 0 2 2 0 0 2 2 3 4 3 2 2 2 2 0 1 3 0 2 1 2 0 2 3 4\n",
      " 3 1 4 3 3 0 2 4 0 4 1 3 2 1 3 0 1 2 1]\n"
     ]
    }
   ],
   "source": [
    "n_pts = 500\n",
    "centers = [[-1, 1], [-1, -1], [1, -1], [1, 1], [0, 0]]\n",
    "X, y = datasets.make_blobs(n_samples=n_pts, random_state = 123, centers=centers, cluster_std=0.4)\n",
    "print(X)  #X refer to datapoints\n",
    "print()\n",
    "print(y)  #y refer to labels\n",
    "\n",
    "\n",
    "\n"
   ]
  },
  {
   "cell_type": "code",
   "execution_count": 3,
   "metadata": {},
   "outputs": [
    {
     "data": {
      "text/plain": [
       "<matplotlib.collections.PathCollection at 0xe6fd01f9b0>"
      ]
     },
     "execution_count": 3,
     "metadata": {},
     "output_type": "execute_result"
    },
    {
     "data": {
      "image/png": "[encoded data removed]",
      "text/plain": [
       "<Figure size 432x288 with 1 Axes>"
      ]
     },
     "metadata": {},
     "output_type": "display_data"
    }
   ],
   "source": [
    "plt.scatter(X[y==0, 0], X[y==0, 1]) #points around [-1, 1] havelabel 0\n"
   ]
  },
  {
   "cell_type": "code",
   "execution_count": 4,
   "metadata": {},
   "outputs": [
    {
     "data": {
      "text/plain": [
       "<matplotlib.collections.PathCollection at 0xe6fd0bac50>"
      ]
     },
     "execution_count": 4,
     "metadata": {},
     "output_type": "execute_result"
    },
    {
     "data": {
      "image/png": "[encoded data removed]",
      "text/plain": [
       "<Figure size 432x288 with 1 Axes>"
      ]
     },
     "metadata": {},
     "output_type": "display_data"
    }
   ],
   "source": [
    "plt.scatter(X[y==1, 0], X[y==1, 1]) #points around [-1, -1] havelabel 1\n"
   ]
  },
  {
   "cell_type": "code",
   "execution_count": 5,
   "metadata": {},
   "outputs": [
    {
     "data": {
      "text/plain": [
       "<matplotlib.collections.PathCollection at 0xe6fd116cf8>"
      ]
     },
     "execution_count": 5,
     "metadata": {},
     "output_type": "execute_result"
    },
    {
     "data": {
      "image/png": "[encoded data removed]",
      "text/plain": [
       "<Figure size 432x288 with 1 Axes>"
      ]
     },
     "metadata": {},
     "output_type": "display_data"
    }
   ],
   "source": [
    "plt.scatter(X[y==2, 0], X[y==2, 1]) #points around [1, -1] havelabel 2\n"
   ]
  },
  {
   "cell_type": "code",
   "execution_count": 6,
   "metadata": {},
   "outputs": [
    {
     "data": {
      "text/plain": [
       "<matplotlib.collections.PathCollection at 0xe6fd17a0f0>"
      ]
     },
     "execution_count": 6,
     "metadata": {},
     "output_type": "execute_result"
    },
    {
     "data": {
      "image/png": "[encoded data removed]",
      "text/plain": [
       "<Figure size 432x288 with 1 Axes>"
      ]
     },
     "metadata": {},
     "output_type": "display_data"
    }
   ],
   "source": [
    "plt.scatter(X[y==3, 0], X[y==3, 1]) #points around [1, 1] havelabel 3\n"
   ]
  },
  {
   "cell_type": "code",
   "execution_count": 7,
   "metadata": {},
   "outputs": [
    {
     "data": {
      "text/plain": [
       "<matplotlib.collections.PathCollection at 0xe6fd1c3cf8>"
      ]
     },
     "execution_count": 7,
     "metadata": {},
     "output_type": "execute_result"
    },
    {
     "data": {
      "image/png": "[encoded data removed]",
      "text/plain": [
       "<Figure size 432x288 with 1 Axes>"
      ]
     },
     "metadata": {},
     "output_type": "display_data"
    }
   ],
   "source": [
    "plt.scatter(X[y==4, 0], X[y==4, 1]) #points around [0, 0] havelabel 4"
   ]
  },
  {
   "cell_type": "code",
   "execution_count": 8,
   "metadata": {},
   "outputs": [
    {
     "data": {
      "text/plain": [
       "<matplotlib.collections.PathCollection at 0xe6fd231320>"
      ]
     },
     "execution_count": 8,
     "metadata": {},
     "output_type": "execute_result"
    },
    {
     "data": {
      "image/png": "[encoded data removed]",
      "text/plain": [
       "<Figure size 432x288 with 1 Axes>"
      ]
     },
     "metadata": {},
     "output_type": "display_data"
    }
   ],
   "source": [
    "plt.scatter(X[y==0, 0], X[y==0, 1])\n",
    "plt.scatter(X[y==1, 0], X[y==1, 1])\n",
    "plt.scatter(X[y==2, 0], X[y==2, 1])\n",
    "plt.scatter(X[y==3, 0], X[y==3, 1])\n",
    "plt.scatter(X[y==4, 0], X[y==4, 1])"
   ]
  },
  {
   "cell_type": "code",
   "execution_count": 9,
   "metadata": {},
   "outputs": [
    {
     "name": "stdout",
     "output_type": "stream",
     "text": [
      "[3 3 4 0 2 1 1 4 4 4 3 2 1 0 2 4 4 4 3 0 3 0 3 4 1 3 1 0 4 2 3 1 0 4 1 0 4\n",
      " 0 4 0 1 3 3 0 3 1 3 4 0 4 0 2 3 0 2 4 4 0 3 4 1 3 0 4 2 1 1 2 3 2 3 2 1 1\n",
      " 3 2 4 2 2 3 0 2 4 3 2 1 3 3 3 3 1 1 4 2 4 4 1 2 4 1 4 2 2 3 4 1 1 3 3 2 1\n",
      " 3 1 0 1 0 4 4 4 3 1 3 3 3 1 4 4 0 2 0 1 1 0 4 0 1 1 4 4 0 4 3 4 4 2 4 0 0\n",
      " 0 4 2 0 4 1 0 2 2 1 3 0 1 2 2 4 4 1 3 2 3 3 3 2 2 2 4 0 1 1 0 1 4 4 3 2 3\n",
      " 2 3 1 0 3 4 2 1 0 0 0 4 3 0 4 2 2 3 1 0 4 4 1 2 1 3 1 4 4 0 1 4 2 4 0 4 0\n",
      " 1 2 3 0 1 0 3 3 4 3 4 0 0 1 1 3 0 4 1 4 2 1 2 4 4 3 3 1 1 1 4 1 1 1 4 3 1\n",
      " 0 0 2 2 2 3 2 3 4 2 3 3 1 1 0 4 0 3 0 0 0 3 2 2 1 4 2 0 0 2 2 1 3 3 1 3 0\n",
      " 0 1 4 2 2 2 1 0 0 1 0 0 1 2 4 2 4 2 1 3 0 0 1 4 1 2 4 4 4 3 4 1 2 3 1 3 1\n",
      " 0 0 2 4 1 3 1 1 2 1 4 3 1 2 3 2 0 4 1 4 0 2 2 0 1 2 2 4 4 0 4 1 3 3 2 2 0\n",
      " 4 3 3 1 2 2 4 3 0 3 3 3 3 0 1 4 4 4 0 3 3 2 4 0 4 0 0 4 2 2 2 3 0 2 0 0 1\n",
      " 2 3 0 0 2 4 2 3 0 3 0 1 0 4 1 0 0 1 3 1 4 0 2 1 1 3 2 3 2 2 2 3 1 0 0 0 1\n",
      " 3 4 2 1 0 2 1 4 3 3 4 0 0 2 2 0 0 2 2 3 4 3 2 2 2 2 0 1 3 0 2 1 2 0 2 3 4\n",
      " 3 1 4 3 3 0 2 4 0 4 1 3 2 1 3 0 1 2 1]\n"
     ]
    }
   ],
   "source": [
    "#before one hot encoding\n",
    "print(y)"
   ]
  },
  {
   "cell_type": "code",
   "execution_count": 10,
   "metadata": {},
   "outputs": [
    {
     "name": "stdout",
     "output_type": "stream",
     "text": [
      "[[0. 0. 0. 1. 0.]\n",
      " [0. 0. 0. 1. 0.]\n",
      " [0. 0. 0. 0. 1.]\n",
      " ...\n",
      " [0. 1. 0. 0. 0.]\n",
      " [0. 0. 1. 0. 0.]\n",
      " [0. 1. 0. 0. 0.]]\n"
     ]
    }
   ],
   "source": [
    "#one hot encoding\n",
    "y_cat = to_categorical(y, 5) # 2nd paramter is optional(by default 3. we have tospecify if no of classes RE MORE THAn  3) .It represents no of clasees we have.Here we have 5 classes (0,1,2,3,4)\n",
    "print(y_cat)"
   ]
  },
  {
   "cell_type": "code",
   "execution_count": 11,
   "metadata": {},
   "outputs": [],
   "source": [
    "#not using any hidden layers.\n",
    "#we have 2 axes(x1,x2) as input.so we will take 2 input nodes\n",
    "#we have 5 classes . so we will take 5 output nodes\n",
    "model = Sequential()\n",
    "model.add(Dense(5, input_shape=(2,), activation='softmax')) # 5 specifies 5output nodes.input_shape=(2,) specifies shape  of input\n",
    "#softmax for multi class clasification\n",
    "model.compile(Adam(lr=0.1), 'categorical_crossentropy', metrics=['accuracy'])\n",
    "#lr specifies learning rate"
   ]
  },
  {
   "cell_type": "code",
   "execution_count": 12,
   "metadata": {},
   "outputs": [
    {
     "name": "stdout",
     "output_type": "stream",
     "text": [
      "Epoch 1/100\n",
      "500/500 [==============================] - 0s 333us/step - loss: 1.0350 - accuracy: 0.6040\n",
      "Epoch 2/100\n",
      "500/500 [==============================] - 0s 68us/step - loss: 0.5332 - accuracy: 0.8760\n",
      "Epoch 3/100\n",
      "500/500 [==============================] - 0s 70us/step - loss: 0.3642 - accuracy: 0.9420\n",
      "Epoch 4/100\n",
      "500/500 [==============================] - 0s 64us/step - loss: 0.2967 - accuracy: 0.9400\n",
      "Epoch 5/100\n",
      "500/500 [==============================] - 0s 66us/step - loss: 0.2622 - accuracy: 0.9480\n",
      "Epoch 6/100\n",
      "500/500 [==============================] - 0s 66us/step - loss: 0.2412 - accuracy: 0.9460\n",
      "Epoch 7/100\n",
      "500/500 [==============================] - 0s 62us/step - loss: 0.2262 - accuracy: 0.9460\n",
      "Epoch 8/100\n",
      "500/500 [==============================] - 0s 66us/step - loss: 0.2161 - accuracy: 0.9460\n",
      "Epoch 9/100\n",
      "500/500 [==============================] - 0s 62us/step - loss: 0.2067 - accuracy: 0.9480\n",
      "Epoch 10/100\n",
      "500/500 [==============================] - 0s 72us/step - loss: 0.1997 - accuracy: 0.9500\n",
      "Epoch 11/100\n",
      "500/500 [==============================] - 0s 68us/step - loss: 0.1942 - accuracy: 0.9560\n",
      "Epoch 12/100\n",
      "500/500 [==============================] - 0s 64us/step - loss: 0.1894 - accuracy: 0.9520\n",
      "Epoch 13/100\n",
      "500/500 [==============================] - 0s 66us/step - loss: 0.1856 - accuracy: 0.9520\n",
      "Epoch 14/100\n",
      "500/500 [==============================] - 0s 60us/step - loss: 0.1826 - accuracy: 0.9520\n",
      "Epoch 15/100\n",
      "500/500 [==============================] - 0s 70us/step - loss: 0.1788 - accuracy: 0.9500\n",
      "Epoch 16/100\n",
      "500/500 [==============================] - 0s 66us/step - loss: 0.1767 - accuracy: 0.9520\n",
      "Epoch 17/100\n",
      "500/500 [==============================] - 0s 76us/step - loss: 0.1754 - accuracy: 0.9500\n",
      "Epoch 18/100\n",
      "500/500 [==============================] - 0s 68us/step - loss: 0.1725 - accuracy: 0.9480\n",
      "Epoch 19/100\n",
      "500/500 [==============================] - 0s 60us/step - loss: 0.1726 - accuracy: 0.9480\n",
      "Epoch 20/100\n",
      "500/500 [==============================] - 0s 70us/step - loss: 0.1695 - accuracy: 0.9460\n",
      "Epoch 21/100\n",
      "500/500 [==============================] - 0s 60us/step - loss: 0.1672 - accuracy: 0.9480\n",
      "Epoch 22/100\n",
      "500/500 [==============================] - 0s 62us/step - loss: 0.1666 - accuracy: 0.9440\n",
      "Epoch 23/100\n",
      "500/500 [==============================] - 0s 66us/step - loss: 0.1647 - accuracy: 0.9500\n",
      "Epoch 24/100\n",
      "500/500 [==============================] - 0s 62us/step - loss: 0.1639 - accuracy: 0.9520\n",
      "Epoch 25/100\n",
      "500/500 [==============================] - 0s 62us/step - loss: 0.1624 - accuracy: 0.9520\n",
      "Epoch 26/100\n",
      "500/500 [==============================] - 0s 66us/step - loss: 0.1618 - accuracy: 0.9500\n",
      "Epoch 27/100\n",
      "500/500 [==============================] - 0s 66us/step - loss: 0.1628 - accuracy: 0.9520\n",
      "Epoch 28/100\n",
      "500/500 [==============================] - 0s 60us/step - loss: 0.1613 - accuracy: 0.9500\n",
      "Epoch 29/100\n",
      "500/500 [==============================] - 0s 64us/step - loss: 0.1613 - accuracy: 0.9500\n",
      "Epoch 30/100\n",
      "500/500 [==============================] - 0s 70us/step - loss: 0.1606 - accuracy: 0.9520\n",
      "Epoch 31/100\n",
      "500/500 [==============================] - 0s 60us/step - loss: 0.1605 - accuracy: 0.9460\n",
      "Epoch 32/100\n",
      "500/500 [==============================] - 0s 66us/step - loss: 0.1591 - accuracy: 0.9500\n",
      "Epoch 33/100\n",
      "500/500 [==============================] - 0s 66us/step - loss: 0.1585 - accuracy: 0.9500\n",
      "Epoch 34/100\n",
      "500/500 [==============================] - 0s 66us/step - loss: 0.1582 - accuracy: 0.9460\n",
      "Epoch 35/100\n",
      "500/500 [==============================] - 0s 66us/step - loss: 0.1571 - accuracy: 0.9480\n",
      "Epoch 36/100\n",
      "500/500 [==============================] - 0s 58us/step - loss: 0.1564 - accuracy: 0.9500\n",
      "Epoch 37/100\n",
      "500/500 [==============================] - 0s 66us/step - loss: 0.1574 - accuracy: 0.9500\n",
      "Epoch 38/100\n",
      "500/500 [==============================] - 0s 66us/step - loss: 0.1550 - accuracy: 0.9520\n",
      "Epoch 39/100\n",
      "500/500 [==============================] - 0s 58us/step - loss: 0.1547 - accuracy: 0.9520\n",
      "Epoch 40/100\n",
      "500/500 [==============================] - 0s 64us/step - loss: 0.1550 - accuracy: 0.9520\n",
      "Epoch 41/100\n",
      "500/500 [==============================] - 0s 74us/step - loss: 0.1547 - accuracy: 0.9520\n",
      "Epoch 42/100\n",
      "500/500 [==============================] - 0s 66us/step - loss: 0.1547 - accuracy: 0.9480\n",
      "Epoch 43/100\n",
      "500/500 [==============================] - 0s 76us/step - loss: 0.1547 - accuracy: 0.9500\n",
      "Epoch 44/100\n",
      "500/500 [==============================] - 0s 74us/step - loss: 0.1552 - accuracy: 0.9500\n",
      "Epoch 45/100\n",
      "500/500 [==============================] - 0s 72us/step - loss: 0.1540 - accuracy: 0.9500\n",
      "Epoch 46/100\n",
      "500/500 [==============================] - 0s 66us/step - loss: 0.1544 - accuracy: 0.9460\n",
      "Epoch 47/100\n",
      "500/500 [==============================] - 0s 64us/step - loss: 0.1533 - accuracy: 0.9500\n",
      "Epoch 48/100\n",
      "500/500 [==============================] - 0s 58us/step - loss: 0.1536 - accuracy: 0.9460\n",
      "Epoch 49/100\n",
      "500/500 [==============================] - 0s 66us/step - loss: 0.1571 - accuracy: 0.9460\n",
      "Epoch 50/100\n",
      "500/500 [==============================] - 0s 62us/step - loss: 0.1537 - accuracy: 0.9480\n",
      "Epoch 51/100\n",
      "500/500 [==============================] - 0s 56us/step - loss: 0.1529 - accuracy: 0.9500\n",
      "Epoch 52/100\n",
      "500/500 [==============================] - 0s 62us/step - loss: 0.1525 - accuracy: 0.9500\n",
      "Epoch 53/100\n",
      "500/500 [==============================] - 0s 62us/step - loss: 0.1536 - accuracy: 0.9520\n",
      "Epoch 54/100\n",
      "500/500 [==============================] - 0s 64us/step - loss: 0.1526 - accuracy: 0.9520\n",
      "Epoch 55/100\n",
      "500/500 [==============================] - 0s 64us/step - loss: 0.1555 - accuracy: 0.9460\n",
      "Epoch 56/100\n",
      "500/500 [==============================] - 0s 64us/step - loss: 0.1519 - accuracy: 0.9520\n",
      "Epoch 57/100\n",
      "500/500 [==============================] - 0s 58us/step - loss: 0.1547 - accuracy: 0.9520\n",
      "Epoch 58/100\n",
      "500/500 [==============================] - 0s 66us/step - loss: 0.1533 - accuracy: 0.9540\n",
      "Epoch 59/100\n",
      "500/500 [==============================] - 0s 62us/step - loss: 0.1526 - accuracy: 0.9460\n",
      "Epoch 60/100\n",
      "500/500 [==============================] - 0s 56us/step - loss: 0.1558 - accuracy: 0.9460\n",
      "Epoch 61/100\n",
      "500/500 [==============================] - 0s 68us/step - loss: 0.1517 - accuracy: 0.9500\n",
      "Epoch 62/100\n",
      "500/500 [==============================] - 0s 68us/step - loss: 0.1523 - accuracy: 0.9480\n",
      "Epoch 63/100\n",
      "500/500 [==============================] - 0s 70us/step - loss: 0.1536 - accuracy: 0.9460\n",
      "Epoch 64/100\n",
      "500/500 [==============================] - 0s 60us/step - loss: 0.1524 - accuracy: 0.9500\n",
      "Epoch 65/100\n",
      "500/500 [==============================] - 0s 64us/step - loss: 0.1526 - accuracy: 0.9500\n",
      "Epoch 66/100\n",
      "500/500 [==============================] - 0s 62us/step - loss: 0.1517 - accuracy: 0.9500\n",
      "Epoch 67/100\n",
      "500/500 [==============================] - 0s 64us/step - loss: 0.1523 - accuracy: 0.9500\n",
      "Epoch 68/100\n",
      "500/500 [==============================] - 0s 58us/step - loss: 0.1545 - accuracy: 0.9520\n",
      "Epoch 69/100\n",
      "500/500 [==============================] - 0s 60us/step - loss: 0.1510 - accuracy: 0.9520\n",
      "Epoch 70/100\n",
      "500/500 [==============================] - 0s 62us/step - loss: 0.1512 - accuracy: 0.9500\n",
      "Epoch 71/100\n",
      "500/500 [==============================] - 0s 60us/step - loss: 0.1519 - accuracy: 0.9500\n",
      "Epoch 72/100\n",
      "500/500 [==============================] - 0s 54us/step - loss: 0.1521 - accuracy: 0.9520\n",
      "Epoch 73/100\n",
      "500/500 [==============================] - 0s 64us/step - loss: 0.1523 - accuracy: 0.9480\n",
      "Epoch 74/100\n",
      "500/500 [==============================] - 0s 60us/step - loss: 0.1531 - accuracy: 0.9520\n",
      "Epoch 75/100\n",
      "500/500 [==============================] - 0s 58us/step - loss: 0.1521 - accuracy: 0.9480\n",
      "Epoch 76/100\n",
      "500/500 [==============================] - 0s 62us/step - loss: 0.1517 - accuracy: 0.9480\n",
      "Epoch 77/100\n",
      "500/500 [==============================] - 0s 58us/step - loss: 0.1518 - accuracy: 0.9500\n",
      "Epoch 78/100\n",
      "500/500 [==============================] - 0s 60us/step - loss: 0.1515 - accuracy: 0.9540\n",
      "Epoch 79/100\n",
      "500/500 [==============================] - 0s 70us/step - loss: 0.1519 - accuracy: 0.9520\n",
      "Epoch 80/100\n"
     ]
    },
    {
     "name": "stdout",
     "output_type": "stream",
     "text": [
      "500/500 [==============================] - 0s 60us/step - loss: 0.1515 - accuracy: 0.9500\n",
      "Epoch 81/100\n",
      "500/500 [==============================] - 0s 68us/step - loss: 0.1512 - accuracy: 0.9480\n",
      "Epoch 82/100\n",
      "500/500 [==============================] - 0s 66us/step - loss: 0.1526 - accuracy: 0.9500\n",
      "Epoch 83/100\n",
      "500/500 [==============================] - 0s 64us/step - loss: 0.1514 - accuracy: 0.9520\n",
      "Epoch 84/100\n",
      "500/500 [==============================] - 0s 70us/step - loss: 0.1546 - accuracy: 0.9440\n",
      "Epoch 85/100\n",
      "500/500 [==============================] - 0s 66us/step - loss: 0.1519 - accuracy: 0.9500\n",
      "Epoch 86/100\n",
      "500/500 [==============================] - 0s 72us/step - loss: 0.1531 - accuracy: 0.9520\n",
      "Epoch 87/100\n",
      "500/500 [==============================] - 0s 72us/step - loss: 0.1511 - accuracy: 0.9540\n",
      "Epoch 88/100\n",
      "500/500 [==============================] - 0s 60us/step - loss: 0.1527 - accuracy: 0.9520\n",
      "Epoch 89/100\n",
      "500/500 [==============================] - 0s 70us/step - loss: 0.1514 - accuracy: 0.9460\n",
      "Epoch 90/100\n",
      "500/500 [==============================] - 0s 68us/step - loss: 0.1519 - accuracy: 0.9460\n",
      "Epoch 91/100\n",
      "500/500 [==============================] - 0s 68us/step - loss: 0.1531 - accuracy: 0.9480\n",
      "Epoch 92/100\n",
      "500/500 [==============================] - 0s 58us/step - loss: 0.1527 - accuracy: 0.9500\n",
      "Epoch 93/100\n",
      "500/500 [==============================] - 0s 60us/step - loss: 0.1540 - accuracy: 0.9480\n",
      "Epoch 94/100\n",
      "500/500 [==============================] - 0s 68us/step - loss: 0.1526 - accuracy: 0.9520\n",
      "Epoch 95/100\n",
      "500/500 [==============================] - 0s 62us/step - loss: 0.1536 - accuracy: 0.9520\n",
      "Epoch 96/100\n",
      "500/500 [==============================] - 0s 60us/step - loss: 0.1507 - accuracy: 0.9520\n",
      "Epoch 97/100\n",
      "500/500 [==============================] - 0s 58us/step - loss: 0.1514 - accuracy: 0.9460\n",
      "Epoch 98/100\n",
      "500/500 [==============================] - 0s 60us/step - loss: 0.1520 - accuracy: 0.9500\n",
      "Epoch 99/100\n",
      "500/500 [==============================] - 0s 56us/step - loss: 0.1524 - accuracy: 0.9500\n",
      "Epoch 100/100\n",
      "500/500 [==============================] - 0s 60us/step - loss: 0.1510 - accuracy: 0.9540\n"
     ]
    }
   ],
   "source": [
    "#one hot encode output\n",
    "history = model.fit(X, y_cat, verbose=1, batch_size = 50, epochs=100)"
   ]
  },
  {
   "cell_type": "code",
   "execution_count": 13,
   "metadata": {},
   "outputs": [],
   "source": [
    "def plot_multiclass_decision_boundary(X, y_cat, model):\n",
    "    x_span = np.linspace(min(X[:,0]) - 1, max(X[:,0]) + 1)\n",
    "    y_span = np.linspace(min(X[:,1]) - 1, max(X[:,1]) + 1)\n",
    "    xx, yy = np.meshgrid(x_span, y_span)\n",
    "    grid = np.c_[xx.ravel(), yy.ravel()]\n",
    "    pred_func = model.predict_classes(grid) #predict_classes usedfor multi class classification\n",
    "    z = pred_func.reshape(xx.shape)\n",
    "    plt.contourf(xx, yy, z)"
   ]
  },
  {
   "cell_type": "code",
   "execution_count": 14,
   "metadata": {},
   "outputs": [
    {
     "data": {
      "image/png": "[encoded data removed]",
      "text/plain": [
       "<Figure size 432x288 with 1 Axes>"
      ]
     },
     "metadata": {},
     "output_type": "display_data"
    }
   ],
   "source": [
    "plot_multiclass_decision_boundary(X, y_cat, model)"
   ]
  },
  {
   "cell_type": "code",
   "execution_count": 15,
   "metadata": {},
   "outputs": [
    {
     "data": {
      "text/plain": [
       "<matplotlib.collections.PathCollection at 0xe6ff735978>"
      ]
     },
     "execution_count": 15,
     "metadata": {},
     "output_type": "execute_result"
    },
    {
     "data": {
      "image/png": "[encoded data removed]",
      "text/plain": [
       "<Figure size 432x288 with 1 Axes>"
      ]
     },
     "metadata": {},
     "output_type": "display_data"
    }
   ],
   "source": [
    "plot_multiclass_decision_boundary(X, y_cat, model)\n",
    "plt.scatter(X[y==0, 0], X[y==0, 1])\n",
    "plt.scatter(X[y==1, 0], X[y==1, 1])\n",
    "plt.scatter(X[y==2, 0], X[y==2, 1])\n",
    "plt.scatter(X[y==3, 0], X[y==3, 1])\n",
    "plt.scatter(X[y==4, 0], X[y==4, 1])"
   ]
  },
  {
   "cell_type": "code",
   "execution_count": 16,
   "metadata": {},
   "outputs": [
    {
     "name": "stdout",
     "output_type": "stream",
     "text": [
      "Prediction is:  [4]\n"
     ]
    },
    {
     "data": {
      "image/png": "[encoded data removed]",
      "text/plain": [
       "<Figure size 432x288 with 1 Axes>"
      ]
     },
     "metadata": {},
     "output_type": "display_data"
    }
   ],
   "source": [
    "x = -0.5\n",
    "y = -0.5\n",
    " \n",
    "point = np.array([[x, y]])\n",
    "prediction = model.predict_classes(point)\n",
    "plt.plot([x], [y], marker='o', markersize=10, color=\"yellow\")\n",
    "print(\"Prediction is: \", prediction)"
   ]
  },
  {
   "cell_type": "code",
   "execution_count": 18,
   "metadata": {},
   "outputs": [
    {
     "name": "stdout",
     "output_type": "stream",
     "text": [
      "Prediction is:  [4]\n"
     ]
    },
    {
     "data": {
      "image/png": "[encoded data removed]",
      "text/plain": [
       "<Figure size 432x288 with 1 Axes>"
      ]
     },
     "metadata": {},
     "output_type": "display_data"
    }
   ],
   "source": [
    "plot_multiclass_decision_boundary(X, y_cat, model)\n",
    "plt.scatter(X[y==0, 0], X[y==0, 1])\n",
    "plt.scatter(X[y==1, 0], X[y==1, 1])\n",
    "plt.scatter(X[y==2, 0], X[y==2, 1])\n",
    "plt.scatter(X[y==3, 0], X[y==3, 1])\n",
    "plt.scatter(X[y==4, 0], X[y==4, 1])\n",
    " \n",
    "x = -0.5\n",
    "y = -0.5\n",
    " \n",
    "point = np.array([[x, y]])\n",
    "prediction = model.predict_classes(point)\n",
    "plt.plot([x], [y], marker='o', markersize=10, color=\"yellow\")\n",
    "print(\"Prediction is: \", prediction)\n"
   ]
  },
  {
   "cell_type": "code",
   "execution_count": null,
   "metadata": {},
   "outputs": [],
   "source": []
  }
 ],
 "metadata": {
  "kernelspec": {
   "display_name": "Python 3",
   "language": "python",
   "name": "python3"
  },
  "language_info": {
   "codemirror_mode": {
    "name": "ipython",
    "version": 3
   },
   "file_extension": ".py",
   "mimetype": "text/x-python",
   "name": "python",
   "nbconvert_exporter": "python",
   "pygments_lexer": "ipython3",
   "version": "3.6.5"
  }
 },
 "nbformat": 4,
 "nbformat_minor": 2
}
